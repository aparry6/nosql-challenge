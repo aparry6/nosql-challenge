{
 "cells": [
  {
   "cell_type": "markdown",
   "id": "9a57c4c6",
   "metadata": {},
   "source": [
    "# Eat Safe, Love"
   ]
  },
  {
   "cell_type": "markdown",
   "id": "064ef857",
   "metadata": {},
   "source": [
    "## Part 1: Database and Jupyter Notebook Set Up"
   ]
  },
  {
   "cell_type": "markdown",
   "id": "664e3c1f",
   "metadata": {},
   "source": [
    "Import the data provided in the `establishments.json` file from your Terminal. Name the database `uk_food` and the collection `establishments`.\n",
    "\n",
    "Within this markdown cell, copy the line of text you used to import the data from your Terminal. This way, future analysts will be able to repeat your process.\n",
    "\n",
    "e.g.: Import the dataset with `YOUR IMPORT TEXT HERE`"
   ]
  },
  {
   "cell_type": "code",
   "execution_count": 40,
   "id": "3ecdd008",
   "metadata": {},
   "outputs": [],
   "source": [
    "# Import dependencies\n",
    "from pymongo import MongoClient\n",
    "from pprint import pprint"
   ]
  },
  {
   "cell_type": "code",
   "execution_count": 41,
   "id": "59390c4a",
   "metadata": {},
   "outputs": [],
   "source": [
    "# Create an instance of MongoClient\n",
    "mongo = MongoClient(port=27017)"
   ]
  },
  {
   "cell_type": "code",
   "execution_count": 53,
   "id": "7f9ececa",
   "metadata": {},
   "outputs": [
    {
     "name": "stdout",
     "output_type": "stream",
     "text": [
      "The 'uk_food' database has been created.\n"
     ]
    }
   ],
   "source": [
    "from pymongo import MongoClient\n",
    "\n",
    "# Connect to MongoDB server\n",
    "client = MongoClient('localhost', 27017)\n",
    "\n",
    "# Access the \"uk_food\" database\n",
    "db = client[\"uk_food\"]\n",
    "\n",
    "# Check if the \"uk_food\" database exists\n",
    "if \"uk_food\" in client.list_database_names():\n",
    "    print(\"The 'uk_food' database exists.\")\n",
    "else:\n",
    "    # Create the \"uk_food\" database\n",
    "    db = client[\"uk_food\"]\n",
    "    print(\"The 'uk_food' database has been created.\")\n",
    "\n",
    "# Get the list of collection names\n",
    "collection_names = db.list_collection_names()\n",
    "\n",
    "# Print the collection names\n",
    "for collection_name in collection_names:\n",
    "    print(collection_name)\n",
    "\n",
    "# Close the MongoDB connection\n"
   ]
  },
  {
   "cell_type": "code",
   "execution_count": 58,
   "id": "71e373c1",
   "metadata": {},
   "outputs": [],
   "source": [
    "# assign the uk_food database to a variable name\n",
    "db = mongo['uk_food']"
   ]
  },
  {
   "cell_type": "code",
   "execution_count": 60,
   "id": "18ab463c",
   "metadata": {},
   "outputs": [
    {
     "name": "stdout",
     "output_type": "stream",
     "text": [
      "The 'uk_food' database has been created.\n",
      "Collections in 'uk_food' database:\n",
      "sample_collection\n"
     ]
    }
   ],
   "source": [
    "from pymongo import MongoClient\n",
    "\n",
    "# Connect to MongoDB server\n",
    "client = MongoClient('localhost', 27017)\n",
    "\n",
    "# Access the \"uk_food\" database\n",
    "db = client[\"uk_food\"]\n",
    "\n",
    "# Check if the \"uk_food\" database exists\n",
    "if \"uk_food\" in client.list_database_names():\n",
    "    print(\"The 'uk_food' database exists.\")\n",
    "else:\n",
    "    # Create the \"uk_food\" database\n",
    "    db = client[\"uk_food\"]\n",
    "    print(\"The 'uk_food' database has been created.\")\n",
    "\n",
    "# Create a collection and add sample documents\n",
    "collection = db[\"sample_collection\"]\n",
    "collection.insert_many([\n",
    "    {\"name\": \"Item 1\", \"price\": 10},\n",
    "    {\"name\": \"Item 2\", \"price\": 20},\n",
    "    {\"name\": \"Item 3\", \"price\": 30}\n",
    "])\n",
    "\n",
    "# Get the list of collection names\n",
    "collection_names = db.list_collection_names()\n",
    "\n",
    "# Print the collection names\n",
    "if len(collection_names) > 0:\n",
    "    print(\"Collections in 'uk_food' database:\")\n",
    "    for collection_name in collection_names:\n",
    "        print(collection_name)\n",
    "else:\n",
    "    print(\"No collections found in 'uk_food' database.\")\n",
    "\n",
    "# Close the MongoDB connection\n",
    "client.close()\n",
    "\n"
   ]
  },
  {
   "cell_type": "code",
   "execution_count": 62,
   "id": "6a0d92df",
   "metadata": {},
   "outputs": [
    {
     "name": "stdout",
     "output_type": "stream",
     "text": [
      "None\n"
     ]
    }
   ],
   "source": [
    "# review a document in the establishments collection\n",
    "\n",
    "from pymongo import MongoClient\n",
    "\n",
    "# Connect to MongoDB server\n",
    "client = MongoClient('localhost', 27017)\n",
    "\n",
    "# Access the \"uk_food\" database\n",
    "db = client[\"uk_food\"]\n",
    "\n",
    "# Access the \"establishments\" collection\n",
    "collection = db[\"establishments\"]\n",
    "\n",
    "# Find and print a document\n",
    "document = collection.find_one()\n",
    "print(document)\n",
    "\n",
    "# Close the MongoDB connection\n",
    "client.close()\n"
   ]
  },
  {
   "cell_type": "code",
   "execution_count": 64,
   "id": "11c9f11b",
   "metadata": {},
   "outputs": [],
   "source": [
    "# assign the collection to a variable\n",
    "establishments = db['establishments']"
   ]
  },
  {
   "cell_type": "markdown",
   "id": "d5671434",
   "metadata": {},
   "source": [
    "## Part 2: Update the Database"
   ]
  },
  {
   "cell_type": "markdown",
   "id": "314bd884",
   "metadata": {},
   "source": [
    "1. An exciting new halal restaurant just opened in Greenwich, but hasn't been rated yet. The magazine has asked you to include it in your analysis. Add the following restaurant \"Penang Flavours\" to the database."
   ]
  },
  {
   "cell_type": "code",
   "execution_count": 65,
   "id": "c2da7648",
   "metadata": {},
   "outputs": [],
   "source": [
    "# Create a dictionary for the new restaurant data\n",
    "# Create a dictionary for the new restaurant data\n",
    "new_restaurant = {\n",
    "    \"name\": \"Penang Flavours\",\n",
    "    \"location\": \"Greenwich\",\n",
    "    \"cuisine\": \"Halal\",\n",
    "    \"rating\": None\n",
    "}\n"
   ]
  },
  {
   "cell_type": "code",
   "execution_count": 66,
   "id": "a6e5cece",
   "metadata": {},
   "outputs": [
    {
     "name": "stdout",
     "output_type": "stream",
     "text": [
      "New restaurant added with ID: 6462d08faca83edd0177b37b\n"
     ]
    }
   ],
   "source": [
    "# Insert the new restaurant into the collection\n",
    "from pymongo import MongoClient\n",
    "\n",
    "# Connect to MongoDB server\n",
    "client = MongoClient('localhost', 27017)\n",
    "\n",
    "# Access the \"uk_food\" database\n",
    "db = client[\"uk_food\"]\n",
    "\n",
    "# Access the \"establishments\" collection\n",
    "collection = db[\"establishments\"]\n",
    "\n",
    "# Create a dictionary for the new restaurant data\n",
    "new_restaurant = {\n",
    "    \"name\": \"Penang Flavours\",\n",
    "    \"location\": \"Greenwich\",\n",
    "    \"cuisine\": \"Halal\",\n",
    "    \"rating\": None\n",
    "}\n",
    "\n",
    "# Insert the new restaurant document\n",
    "insert_result = collection.insert_one(new_restaurant)\n",
    "print(\"New restaurant added with ID:\", insert_result.inserted_id)\n",
    "\n",
    "# Close the MongoDB connection\n",
    "client.close()\n"
   ]
  },
  {
   "cell_type": "code",
   "execution_count": 67,
   "id": "63bb10f9",
   "metadata": {},
   "outputs": [
    {
     "name": "stdout",
     "output_type": "stream",
     "text": [
      "The restaurant was inserted successfully.\n"
     ]
    }
   ],
   "source": [
    "# Check that the new restaurant was inserted\n",
    "from pymongo import MongoClient\n",
    "\n",
    "# Connect to MongoDB server\n",
    "client = MongoClient('localhost', 27017)\n",
    "\n",
    "# Access the \"uk_food\" database\n",
    "db = client[\"uk_food\"]\n",
    "\n",
    "# Access the \"establishments\" collection\n",
    "collection = db[\"establishments\"]\n",
    "\n",
    "# Find the restaurant with the name \"Penang Flavours\"\n",
    "restaurant = collection.find_one({\"name\": \"Penang Flavours\"})\n",
    "\n",
    "if restaurant:\n",
    "    print(\"The restaurant was inserted successfully.\")\n",
    "else:\n",
    "    print(\"Error: The restaurant was not inserted.\")\n",
    "    \n",
    "# Close the MongoDB connection\n",
    "client.close()\n"
   ]
  },
  {
   "cell_type": "markdown",
   "id": "0ef4395a",
   "metadata": {},
   "source": [
    "2. Find the BusinessTypeID for \"Restaurant/Cafe/Canteen\" and return only the `BusinessTypeID` and `BusinessType` fields."
   ]
  },
  {
   "cell_type": "code",
   "execution_count": 77,
   "id": "93c63829",
   "metadata": {},
   "outputs": [
    {
     "name": "stdout",
     "output_type": "stream",
     "text": [
      "Restaurant not found.\n"
     ]
    }
   ],
   "source": [
    "# Find the BusinessTypeID for \"Restaurant/Cafe/Canteen\" and return only the BusinessTypeID and BusinessType fields\n",
    "from pymongo import MongoClient\n",
    "\n",
    "# Connect to MongoDB server\n",
    "client = MongoClient('localhost', 27017)\n",
    "\n",
    "# Access the \"uk_food\" database\n",
    "db = client[\"uk_food\"]\n",
    "\n",
    "# Access the \"establishments\" collection\n",
    "collection = db[\"establishments\"]\n",
    "\n",
    "# Find the new restaurant\n",
    "restaurant = collection.find_one({\"BusinessName\": \"Penang Flavours\"})\n",
    "\n",
    "if restaurant:\n",
    "    # Update the BusinessTypeID\n",
    "    restaurant[\"BusinessTypeID\"] = 1\n",
    "\n",
    "    # Save the changes\n",
    "    collection.save(restaurant)\n",
    "    print(\"Restaurant updated with the correct BusinessTypeID.\")\n",
    "else:\n",
    "    print(\"Restaurant not found.\")\n",
    "\n",
    "# Close the MongoDB connection\n",
    "client.close()\n",
    "\n",
    "\n",
    "\n",
    "\n"
   ]
  },
  {
   "cell_type": "markdown",
   "id": "4e570caf",
   "metadata": {},
   "source": [
    "3. Update the new restaurant with the `BusinessTypeID` you found."
   ]
  },
  {
   "cell_type": "code",
   "execution_count": 83,
   "id": "7f599f3d",
   "metadata": {},
   "outputs": [
    {
     "name": "stdout",
     "output_type": "stream",
     "text": [
      "Number of documents updated: 0\n"
     ]
    }
   ],
   "source": [
    "# Update the new restaurant with the correct BusinessTypeID\n",
    "from pymongo import MongoClient\n",
    "\n",
    "# Connect to MongoDB server\n",
    "client = MongoClient('localhost', 27017)\n",
    "\n",
    "# Access the \"uk_food\" database\n",
    "db = client[\"uk_food\"]\n",
    "\n",
    "# Access the \"establishments\" collection\n",
    "collection = db[\"establishments\"]\n",
    "\n",
    "# Define the filter to find the restaurant by name\n",
    "filter = {\"BusinessName\": \"Penang Flavours\"}\n",
    "\n",
    "# Define the update to set the BusinessTypeID\n",
    "update = {\"$set\": {\"BusinessTypeID\": 1}}\n",
    "\n",
    "# Update the restaurant with the correct BusinessTypeID\n",
    "result = collection.update_one(filter, update)\n",
    "\n",
    "# Print the number of documents updated\n",
    "print(\"Number of documents updated:\", result.modified_count)\n",
    "\n",
    "# Close the MongoDB connection\n",
    "client.close()\n"
   ]
  },
  {
   "cell_type": "code",
   "execution_count": 85,
   "id": "a6ad16f7",
   "metadata": {},
   "outputs": [
    {
     "name": "stdout",
     "output_type": "stream",
     "text": [
      "Restaurant not found.\n"
     ]
    }
   ],
   "source": [
    "# Confirm that the new restaurant was updated\n",
    "from pymongo import MongoClient\n",
    "\n",
    "# Connect to MongoDB server\n",
    "client = MongoClient('localhost', 27017)\n",
    "\n",
    "# Access the \"uk_food\" database\n",
    "db = client[\"uk_food\"]\n",
    "\n",
    "# Access the \"establishments\" collection\n",
    "collection = db[\"establishments\"]\n",
    "\n",
    "# Define the filter to find the updated restaurant by name\n",
    "filter = {\"BusinessName\": \"Penang Flavours\"}\n",
    "\n",
    "# Find the updated restaurant\n",
    "updated_restaurant = collection.find_one(filter)\n",
    "\n",
    "# Check if the restaurant was found\n",
    "if updated_restaurant is None:\n",
    "    print(\"Restaurant not found.\")\n",
    "else:\n",
    "    # Check the BusinessTypeID of the updated restaurant\n",
    "    business_type_id = updated_restaurant.get(\"BusinessTypeID\")\n",
    "    print(\"BusinessTypeID of the updated restaurant:\", business_type_id)\n",
    "\n",
    "# Close the MongoDB connection\n",
    "client.close()\n",
    "\n"
   ]
  },
  {
   "cell_type": "markdown",
   "id": "67281254",
   "metadata": {},
   "source": [
    "4. The magazine is not interested in any establishments in Dover, so check how many documents contain the Dover Local Authority. Then, remove any establishments within the Dover Local Authority from the database, and check the number of documents to ensure they were deleted."
   ]
  },
  {
   "cell_type": "code",
   "execution_count": 86,
   "id": "768474a6",
   "metadata": {},
   "outputs": [
    {
     "name": "stdout",
     "output_type": "stream",
     "text": [
      "Number of documents with LocalAuthorityName as 'Dover': 0\n"
     ]
    }
   ],
   "source": [
    "# Find how many documents have LocalAuthorityName as \"Dover\"\n",
    "from pymongo import MongoClient\n",
    "\n",
    "# Connect to MongoDB server\n",
    "client = MongoClient('localhost', 27017)\n",
    "\n",
    "# Access the \"uk_food\" database\n",
    "db = client[\"uk_food\"]\n",
    "\n",
    "# Access the \"establishments\" collection\n",
    "collection = db[\"establishments\"]\n",
    "\n",
    "# Define the filter to find documents with LocalAuthorityName as \"Dover\"\n",
    "filter = {\"LocalAuthorityName\": \"Dover\"}\n",
    "\n",
    "# Count the number of documents with the specified filter\n",
    "count = collection.count_documents(filter)\n",
    "\n",
    "# Print the count\n",
    "print(\"Number of documents with LocalAuthorityName as 'Dover':\", count)\n",
    "\n",
    "# Close the MongoDB connection\n",
    "client.close()\n"
   ]
  },
  {
   "cell_type": "code",
   "execution_count": 87,
   "id": "a11d5f1b",
   "metadata": {},
   "outputs": [
    {
     "name": "stdout",
     "output_type": "stream",
     "text": [
      "Number of documents deleted: 0\n"
     ]
    }
   ],
   "source": [
    "# Delete all documents where LocalAuthorityName is \"Dover\"\n",
    "from pymongo import MongoClient\n",
    "\n",
    "# Connect to MongoDB server\n",
    "client = MongoClient('localhost', 27017)\n",
    "\n",
    "# Access the \"uk_food\" database\n",
    "db = client[\"uk_food\"]\n",
    "\n",
    "# Access the \"establishments\" collection\n",
    "collection = db[\"establishments\"]\n",
    "\n",
    "# Define the filter to find documents with LocalAuthorityName as \"Dover\"\n",
    "filter = {\"LocalAuthorityName\": \"Dover\"}\n",
    "\n",
    "# Delete the documents with the specified filter\n",
    "result = collection.delete_many(filter)\n",
    "\n",
    "# Print the number of documents deleted\n",
    "print(\"Number of documents deleted:\", result.deleted_count)\n",
    "\n",
    "# Close the MongoDB connection\n",
    "client.close()\n"
   ]
  },
  {
   "cell_type": "code",
   "execution_count": 90,
   "id": "2a51aba0",
   "metadata": {},
   "outputs": [
    {
     "name": "stdout",
     "output_type": "stream",
     "text": [
      "There are no remaining documents with Dover in LocalAuthorityName.\n"
     ]
    }
   ],
   "source": [
    "# Check if any remaining documents include Dover\n",
    "from pymongo import MongoClient\n",
    "\n",
    "# Connect to MongoDB server\n",
    "client = MongoClient('localhost', 27017)\n",
    "\n",
    "# Access the \"uk_food\" database\n",
    "db = client[\"uk_food\"]\n",
    "\n",
    "# Access the \"establishments\" collection\n",
    "collection = db[\"establishments\"]\n",
    "\n",
    "# Define the filter to find documents with LocalAuthorityName as \"Dover\"\n",
    "filter = {\"LocalAuthorityName\": \"Dover\"}\n",
    "\n",
    "# Find documents with the specified filter\n",
    "documents = collection.find(filter)\n",
    "\n",
    "# Count the number of documents\n",
    "count = len(list(documents))\n",
    "\n",
    "# Check if any documents were found\n",
    "if count > 0:\n",
    "    print(\"There are remaining documents with Dover in LocalAuthorityName.\")\n",
    "else:\n",
    "    print(\"There are no remaining documents with Dover in LocalAuthorityName.\")\n",
    "\n",
    "# Close the MongoDB connection\n",
    "client.close()\n",
    "\n"
   ]
  },
  {
   "cell_type": "markdown",
   "id": "9e831487",
   "metadata": {},
   "source": []
  },
  {
   "cell_type": "code",
   "execution_count": 91,
   "id": "8c356f7b",
   "metadata": {},
   "outputs": [
    {
     "name": "stdout",
     "output_type": "stream",
     "text": [
      "There are remaining documents in the collection.\n"
     ]
    }
   ],
   "source": [
    "# Check that other documents remain with 'find_one'\n",
    "from pymongo import MongoClient\n",
    "\n",
    "# Connect to MongoDB server\n",
    "client = MongoClient('localhost', 27017)\n",
    "\n",
    "# Access the \"uk_food\" database\n",
    "db = client[\"uk_food\"]\n",
    "\n",
    "# Access the \"establishments\" collection\n",
    "collection = db[\"establishments\"]\n",
    "\n",
    "# Find a single document\n",
    "document = collection.find_one({})\n",
    "\n",
    "# Check if a document was found\n",
    "if document is not None:\n",
    "    print(\"There are remaining documents in the collection.\")\n",
    "else:\n",
    "    print(\"The collection is empty.\")\n",
    "\n",
    "# Close the MongoDB connection\n",
    "client.close()\n"
   ]
  },
  {
   "attachments": {},
   "cell_type": "markdown",
   "id": "e9f1662d",
   "metadata": {},
   "source": [
    "5. Some of the number values are stored as strings, when they should be stored as numbers."
   ]
  },
  {
   "attachments": {},
   "cell_type": "markdown",
   "id": "c46df2df",
   "metadata": {},
   "source": [
    "Use `update_many` to convert `latitude` and `longitude` to decimal numbers."
   ]
  },
  {
   "cell_type": "code",
   "execution_count": 93,
   "id": "fd4112ce",
   "metadata": {},
   "outputs": [
    {
     "name": "stdout",
     "output_type": "stream",
     "text": [
      "Number of documents updated: 0\n"
     ]
    }
   ],
   "source": [
    "# Change the data type from String to Decimal for longitude and latitude\n",
    "from pymongo import MongoClient\n",
    "from decimal import Decimal\n",
    "\n",
    "# Connect to MongoDB server\n",
    "client = MongoClient('localhost', 27017)\n",
    "\n",
    "# Access the \"uk_food\" database\n",
    "db = client[\"uk_food\"]\n",
    "\n",
    "# Access the \"establishments\" collection\n",
    "collection = db[\"establishments\"]\n",
    "\n",
    "# Define the filter to select documents with string latitude and longitude\n",
    "filter = {\"$or\": [\n",
    "    {\"latitude\": {\"$type\": \"string\"}},\n",
    "    {\"longitude\": {\"$type\": \"string\"}}\n",
    "]}\n",
    "\n",
    "# Define the update operation to convert string to decimal\n",
    "update = {\"$set\": {\n",
    "    \"latitude\": {\"$toDouble\": \"$latitude\"},\n",
    "    \"longitude\": {\"$toDouble\": \"$longitude\"}\n",
    "}}\n",
    "\n",
    "# Update the documents with the new data type\n",
    "result = collection.update_many(filter, update)\n",
    "\n",
    "# Print the number of documents updated\n",
    "print(\"Number of documents updated:\", result.modified_count)\n",
    "\n",
    "# Close the MongoDB connection\n",
    "client.close()\n"
   ]
  },
  {
   "attachments": {},
   "cell_type": "markdown",
   "id": "142e319c",
   "metadata": {},
   "source": [
    "Use `update_many` to convert `RatingValue` to integer numbers."
   ]
  },
  {
   "cell_type": "code",
   "execution_count": 97,
   "id": "04430a5b",
   "metadata": {},
   "outputs": [
    {
     "name": "stdout",
     "output_type": "stream",
     "text": [
      "Number of documents updated: 0\n"
     ]
    }
   ],
   "source": [
    "# Set non 1-5 Rating Values to Null\n",
    "from pymongo import MongoClient\n",
    "\n",
    "# Connect to MongoDB server\n",
    "client = MongoClient('localhost', 27017)\n",
    "\n",
    "# Access the \"uk_food\" database\n",
    "db = client[\"uk_food\"]\n",
    "\n",
    "# Access the \"establishments\" collection\n",
    "collection = db[\"establishments\"]\n",
    "\n",
    "# Define the non-rating values\n",
    "non_ratings = [\"AwaitingInspection\", \"Awaiting Inspection\", \"AwaitingPublication\", \"Pass\", \"Exempt\"]\n",
    "\n",
    "# Update the documents\n",
    "result = collection.update_many(\n",
    "    {\"RatingValue\": {\"$in\": non_ratings}},\n",
    "    {\"$set\": {\"RatingValue\": None}}\n",
    ")\n",
    "\n",
    "# Print the number of documents updated\n",
    "print(\"Number of documents updated:\", result.modified_count)\n",
    "\n",
    "# Close the MongoDB connection\n",
    "client.close()\n"
   ]
  },
  {
   "cell_type": "code",
   "execution_count": 98,
   "id": "92524ccc",
   "metadata": {},
   "outputs": [
    {
     "name": "stdout",
     "output_type": "stream",
     "text": [
      "Number of documents updated: 1\n"
     ]
    }
   ],
   "source": [
    "# Change the data type from String to Integer for RatingValue\n",
    "from pymongo import MongoClient\n",
    "\n",
    "# Connect to MongoDB server\n",
    "client = MongoClient('localhost', 27017)\n",
    "\n",
    "# Access the \"uk_food\" database\n",
    "db = client[\"uk_food\"]\n",
    "\n",
    "# Access the \"establishments\" collection\n",
    "collection = db[\"establishments\"]\n",
    "\n",
    "# Update the documents to change the data type of RatingValue\n",
    "result = collection.update_many({}, [\n",
    "    {'$set': {'RatingValue': {'$toInt': '$RatingValue'}}}\n",
    "])\n",
    "\n",
    "# Print the number of documents updated\n",
    "print(\"Number of documents updated:\", result.modified_count)\n",
    "\n",
    "# Close the MongoDB connection\n",
    "client.close()\n"
   ]
  },
  {
   "cell_type": "code",
   "execution_count": 99,
   "id": "0deacaf9",
   "metadata": {},
   "outputs": [
    {
     "name": "stdout",
     "output_type": "stream",
     "text": [
      "Latitude: None\n",
      "Longitude: None\n",
      "Rating Value: None\n"
     ]
    }
   ],
   "source": [
    "# Check that the coordinates and rating value are now numbers\n",
    "from pymongo import MongoClient\n",
    "\n",
    "# Connect to MongoDB server\n",
    "client = MongoClient('localhost', 27017)\n",
    "\n",
    "# Access the \"uk_food\" database\n",
    "db = client[\"uk_food\"]\n",
    "\n",
    "# Access the \"establishments\" collection\n",
    "collection = db[\"establishments\"]\n",
    "\n",
    "# Find and retrieve a sample document\n",
    "sample_document = collection.find_one()\n",
    "\n",
    "# Print the coordinates and rating value\n",
    "latitude = sample_document.get(\"latitude\")\n",
    "longitude = sample_document.get(\"longitude\")\n",
    "rating_value = sample_document.get(\"RatingValue\")\n",
    "\n",
    "print(\"Latitude:\", latitude)\n",
    "print(\"Longitude:\", longitude)\n",
    "print(\"Rating Value:\", rating_value)\n",
    "\n",
    "# Close the MongoDB connection\n",
    "client.close()\n"
   ]
  }
 ],
 "metadata": {
  "kernelspec": {
   "display_name": "base",
   "language": "python",
   "name": "python3"
  },
  "language_info": {
   "codemirror_mode": {
    "name": "ipython",
    "version": 3
   },
   "file_extension": ".py",
   "mimetype": "text/x-python",
   "name": "python",
   "nbconvert_exporter": "python",
   "pygments_lexer": "ipython3",
   "version": "3.9.13"
  },
  "vscode": {
   "interpreter": {
    "hash": "58afb3ffbd70f8d988cc6439bbe829ce68a833971978b85767e7fe1e2e1c85eb"
   }
  }
 },
 "nbformat": 4,
 "nbformat_minor": 5
}
